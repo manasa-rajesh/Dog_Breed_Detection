{
  "nbformat": 4,
  "nbformat_minor": 0,
  "metadata": {
    "colab": {
      "name": "Dog_Breed_Prediction.ipynb",
      "provenance": [],
      "authorship_tag": "ABX9TyNwJtiduhHj38LztwDxeSxR",
      "include_colab_link": true
    },
    "kernelspec": {
      "name": "python3",
      "display_name": "Python 3"
    },
    "language_info": {
      "name": "python"
    },
    "accelerator": "GPU"
  },
  "cells": [
    {
      "cell_type": "markdown",
      "metadata": {
        "id": "view-in-github",
        "colab_type": "text"
      },
      "source": [
        "<a href=\"https://colab.research.google.com/github/manasa-rajesh/Dog_Breed_Detection/blob/main/Dog_Breed_Prediction.ipynb\" target=\"_parent\"><img src=\"https://colab.research.google.com/assets/colab-badge.svg\" alt=\"Open In Colab\"/></a>"
      ]
    },
    {
      "cell_type": "markdown",
      "metadata": {
        "id": "b2rNwomv7j-w"
      },
      "source": [
        "## Downloading the data"
      ]
    },
    {
      "cell_type": "code",
      "metadata": {
        "colab": {
          "resources": {
            "http://localhost:8080/nbextensions/google.colab/files.js": {
              "data": "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",
              "ok": true,
              "headers": [
                [
                  "content-type",
                  "application/javascript"
                ]
              ],
              "status": 200,
              "status_text": ""
            }
          },
          "base_uri": "https://localhost:8080/",
          "height": 91
        },
        "id": "_3cAbsKp4bwh",
        "outputId": "b759d95f-694a-483c-885e-8a11eccd0f06"
      },
      "source": [
        "from google.colab import files\n",
        "files.upload()"
      ],
      "execution_count": 1,
      "outputs": [
        {
          "output_type": "display_data",
          "data": {
            "text/html": [
              "\n",
              "     <input type=\"file\" id=\"files-924a42d4-a4ee-41ed-a1f2-fce61590cdc0\" name=\"files[]\" multiple disabled\n",
              "        style=\"border:none\" />\n",
              "     <output id=\"result-924a42d4-a4ee-41ed-a1f2-fce61590cdc0\">\n",
              "      Upload widget is only available when the cell has been executed in the\n",
              "      current browser session. Please rerun this cell to enable.\n",
              "      </output>\n",
              "      <script src=\"/nbextensions/google.colab/files.js\"></script> "
            ],
            "text/plain": [
              "<IPython.core.display.HTML object>"
            ]
          },
          "metadata": {}
        },
        {
          "output_type": "stream",
          "name": "stdout",
          "text": [
            "Saving kaggle.json to kaggle.json\n"
          ]
        },
        {
          "output_type": "execute_result",
          "data": {
            "text/plain": [
              "{'kaggle.json': b'{\"username\":\"manasar08\",\"key\":\"815fff13ae8a80440464682da38db2fb\"}'}"
            ]
          },
          "metadata": {},
          "execution_count": 1
        }
      ]
    },
    {
      "cell_type": "code",
      "metadata": {
        "id": "_z3UKKko4j-L"
      },
      "source": [
        "!pip install -q kaggle"
      ],
      "execution_count": 2,
      "outputs": []
    },
    {
      "cell_type": "code",
      "metadata": {
        "id": "VCoDNXyI4qW4"
      },
      "source": [
        "!mkdir -p ~/.kaggle"
      ],
      "execution_count": 3,
      "outputs": []
    },
    {
      "cell_type": "code",
      "metadata": {
        "id": "OuB1hpmF4vg1"
      },
      "source": [
        "!cp kaggle.json ~/.kaggle/"
      ],
      "execution_count": 4,
      "outputs": []
    },
    {
      "cell_type": "code",
      "metadata": {
        "id": "z4Q3NU9V4zm6"
      },
      "source": [
        "!chmod 600 ~/.kaggle/kaggle.json"
      ],
      "execution_count": 5,
      "outputs": []
    },
    {
      "cell_type": "code",
      "metadata": {
        "id": "d8h7M2nw44fk"
      },
      "source": [
        "!mkdir dog_dataset"
      ],
      "execution_count": 6,
      "outputs": []
    },
    {
      "cell_type": "code",
      "metadata": {
        "colab": {
          "base_uri": "https://localhost:8080/"
        },
        "id": "1dD4rF3Z468C",
        "outputId": "82f1f7b4-1691-411c-e50b-289343efeadc"
      },
      "source": [
        "%cd dog_dataset"
      ],
      "execution_count": 7,
      "outputs": [
        {
          "output_type": "stream",
          "name": "stdout",
          "text": [
            "/content/dog_dataset\n"
          ]
        }
      ]
    },
    {
      "cell_type": "code",
      "metadata": {
        "colab": {
          "base_uri": "https://localhost:8080/"
        },
        "id": "32PYI9A248UF",
        "outputId": "324cbf52-a62a-4576-fc62-583d376e7aca"
      },
      "source": [
        "!kaggle datasets list -s dogbreedidfromcomp"
      ],
      "execution_count": 8,
      "outputs": [
        {
          "output_type": "stream",
          "name": "stdout",
          "text": [
            "Warning: Looks like you're using an outdated API Version, please consider updating (server 1.5.12 / client 1.5.4)\n",
            "ref                                title                    size  lastUpdated          downloadCount  \n",
            "---------------------------------  ----------------------  -----  -------------------  -------------  \n",
            "catherinehorng/dogbreedidfromcomp  dog-breed-id-from-comp  691MB  2020-06-26 03:09:05            209  \n"
          ]
        }
      ]
    },
    {
      "cell_type": "code",
      "metadata": {
        "colab": {
          "base_uri": "https://localhost:8080/"
        },
        "id": "gLrnnh6W5CuQ",
        "outputId": "a349d38f-c60a-4f1b-dd88-74299898e4f3"
      },
      "source": [
        "!kaggle datasets download catherinehorng/dogbreedidfromcomp"
      ],
      "execution_count": 9,
      "outputs": [
        {
          "output_type": "stream",
          "name": "stdout",
          "text": [
            "Downloading dogbreedidfromcomp.zip to /content/dog_dataset\n",
            " 99% 685M/691M [00:12<00:00, 63.6MB/s]\n",
            "100% 691M/691M [00:12<00:00, 56.3MB/s]\n"
          ]
        }
      ]
    },
    {
      "cell_type": "code",
      "metadata": {
        "colab": {
          "base_uri": "https://localhost:8080/"
        },
        "id": "A_lko1fn5J-P",
        "outputId": "2c9c3140-be09-4cf8-e9c7-8b904853dc3b"
      },
      "source": [
        "%cd .."
      ],
      "execution_count": 10,
      "outputs": [
        {
          "output_type": "stream",
          "name": "stdout",
          "text": [
            "/content\n"
          ]
        }
      ]
    },
    {
      "cell_type": "code",
      "metadata": {
        "id": "lZuqrq2k5OD4"
      },
      "source": [
        "#!unzip dog_dataset/dogbreedidfromcomp.zip -d dog_dataset"
      ],
      "execution_count": 27,
      "outputs": []
    },
    {
      "cell_type": "code",
      "metadata": {
        "id": "aG5snDtz5iFX"
      },
      "source": [
        "!rm dog_dataset/dogbreedidfromcomp.zip"
      ],
      "execution_count": 12,
      "outputs": []
    },
    {
      "cell_type": "code",
      "metadata": {
        "id": "5XykZ33x5r0J"
      },
      "source": [
        "!rm dog_dataset/sample_submission.csv"
      ],
      "execution_count": 13,
      "outputs": []
    },
    {
      "cell_type": "markdown",
      "metadata": {
        "id": "ZoP13TZP7qs2"
      },
      "source": [
        "## Loading Libraries"
      ]
    },
    {
      "cell_type": "code",
      "metadata": {
        "id": "qxbcqfQk5vrX"
      },
      "source": [
        "import numpy as np\n",
        "import pandas as pd\n",
        "import matplotlib.pyplot as plt\n",
        "\n",
        "from tqdm import tqdm\n",
        "from keras.preprocessing import image\n",
        "from sklearn.preprocessing import label_binarize\n",
        "from sklearn.model_selection import train_test_split\n",
        "from keras.models import Sequential\n",
        "from keras.layers import Dense, Dropout, Flatten, Conv2D, MaxPool2D\n",
        "from tensorflow.keras.optimizers import Adam"
      ],
      "execution_count": 14,
      "outputs": []
    },
    {
      "cell_type": "markdown",
      "metadata": {
        "id": "NCs8ECuJ7tL-"
      },
      "source": [
        "## Loading the data"
      ]
    },
    {
      "cell_type": "code",
      "metadata": {
        "colab": {
          "base_uri": "https://localhost:8080/",
          "height": 206
        },
        "id": "ff_giXq96XCx",
        "outputId": "642d2637-257b-48b1-f7fe-31f6daae41a5"
      },
      "source": [
        "labels_all = pd.read_csv(\"dog_dataset/labels.csv\")\n",
        "labels_all.head()"
      ],
      "execution_count": 15,
      "outputs": [
        {
          "output_type": "execute_result",
          "data": {
            "text/html": [
              "<div>\n",
              "<style scoped>\n",
              "    .dataframe tbody tr th:only-of-type {\n",
              "        vertical-align: middle;\n",
              "    }\n",
              "\n",
              "    .dataframe tbody tr th {\n",
              "        vertical-align: top;\n",
              "    }\n",
              "\n",
              "    .dataframe thead th {\n",
              "        text-align: right;\n",
              "    }\n",
              "</style>\n",
              "<table border=\"1\" class=\"dataframe\">\n",
              "  <thead>\n",
              "    <tr style=\"text-align: right;\">\n",
              "      <th></th>\n",
              "      <th>id</th>\n",
              "      <th>breed</th>\n",
              "    </tr>\n",
              "  </thead>\n",
              "  <tbody>\n",
              "    <tr>\n",
              "      <th>0</th>\n",
              "      <td>000bec180eb18c7604dcecc8fe0dba07</td>\n",
              "      <td>boston_bull</td>\n",
              "    </tr>\n",
              "    <tr>\n",
              "      <th>1</th>\n",
              "      <td>001513dfcb2ffafc82cccf4d8bbaba97</td>\n",
              "      <td>dingo</td>\n",
              "    </tr>\n",
              "    <tr>\n",
              "      <th>2</th>\n",
              "      <td>001cdf01b096e06d78e9e5112d419397</td>\n",
              "      <td>pekinese</td>\n",
              "    </tr>\n",
              "    <tr>\n",
              "      <th>3</th>\n",
              "      <td>00214f311d5d2247d5dfe4fe24b2303d</td>\n",
              "      <td>bluetick</td>\n",
              "    </tr>\n",
              "    <tr>\n",
              "      <th>4</th>\n",
              "      <td>0021f9ceb3235effd7fcde7f7538ed62</td>\n",
              "      <td>golden_retriever</td>\n",
              "    </tr>\n",
              "  </tbody>\n",
              "</table>\n",
              "</div>"
            ],
            "text/plain": [
              "                                 id             breed\n",
              "0  000bec180eb18c7604dcecc8fe0dba07       boston_bull\n",
              "1  001513dfcb2ffafc82cccf4d8bbaba97             dingo\n",
              "2  001cdf01b096e06d78e9e5112d419397          pekinese\n",
              "3  00214f311d5d2247d5dfe4fe24b2303d          bluetick\n",
              "4  0021f9ceb3235effd7fcde7f7538ed62  golden_retriever"
            ]
          },
          "metadata": {},
          "execution_count": 15
        }
      ]
    },
    {
      "cell_type": "code",
      "metadata": {
        "colab": {
          "base_uri": "https://localhost:8080/"
        },
        "id": "no8z6cYd6r6C",
        "outputId": "c4f9ec0d-9da5-4b61-b66f-ee8e1b1abc65"
      },
      "source": [
        "breeds_all = labels_all['breed']\n",
        "breeds_all.value_counts()"
      ],
      "execution_count": 16,
      "outputs": [
        {
          "output_type": "execute_result",
          "data": {
            "text/plain": [
              "scottish_deerhound      126\n",
              "maltese_dog             117\n",
              "afghan_hound            116\n",
              "entlebucher             115\n",
              "bernese_mountain_dog    114\n",
              "                       ... \n",
              "komondor                 67\n",
              "brabancon_griffon        67\n",
              "golden_retriever         67\n",
              "briard                   66\n",
              "eskimo_dog               66\n",
              "Name: breed, Length: 120, dtype: int64"
            ]
          },
          "metadata": {},
          "execution_count": 16
        }
      ]
    },
    {
      "cell_type": "code",
      "metadata": {
        "colab": {
          "base_uri": "https://localhost:8080/",
          "height": 206
        },
        "id": "KwxEVyB366_6",
        "outputId": "b704bd4e-2772-44d0-c653-cb61764ddb76"
      },
      "source": [
        "CLASS_NAMES = ['scottish_deerhound', 'maltese_dog', 'bernese_mountain_dog']\n",
        "labels = labels_all[(labels_all['breed'].isin(CLASS_NAMES))]\n",
        "labels = labels.reset_index()\n",
        "labels.head()"
      ],
      "execution_count": 17,
      "outputs": [
        {
          "output_type": "execute_result",
          "data": {
            "text/html": [
              "<div>\n",
              "<style scoped>\n",
              "    .dataframe tbody tr th:only-of-type {\n",
              "        vertical-align: middle;\n",
              "    }\n",
              "\n",
              "    .dataframe tbody tr th {\n",
              "        vertical-align: top;\n",
              "    }\n",
              "\n",
              "    .dataframe thead th {\n",
              "        text-align: right;\n",
              "    }\n",
              "</style>\n",
              "<table border=\"1\" class=\"dataframe\">\n",
              "  <thead>\n",
              "    <tr style=\"text-align: right;\">\n",
              "      <th></th>\n",
              "      <th>index</th>\n",
              "      <th>id</th>\n",
              "      <th>breed</th>\n",
              "    </tr>\n",
              "  </thead>\n",
              "  <tbody>\n",
              "    <tr>\n",
              "      <th>0</th>\n",
              "      <td>9</td>\n",
              "      <td>0042188c895a2f14ef64a918ed9c7b64</td>\n",
              "      <td>scottish_deerhound</td>\n",
              "    </tr>\n",
              "    <tr>\n",
              "      <th>1</th>\n",
              "      <td>12</td>\n",
              "      <td>00693b8bc2470375cc744a6391d397ec</td>\n",
              "      <td>maltese_dog</td>\n",
              "    </tr>\n",
              "    <tr>\n",
              "      <th>2</th>\n",
              "      <td>79</td>\n",
              "      <td>01e787576c003930f96c966f9c3e1d44</td>\n",
              "      <td>scottish_deerhound</td>\n",
              "    </tr>\n",
              "    <tr>\n",
              "      <th>3</th>\n",
              "      <td>90</td>\n",
              "      <td>022b34fd8734b39995a9f38a4f3e7b6b</td>\n",
              "      <td>maltese_dog</td>\n",
              "    </tr>\n",
              "    <tr>\n",
              "      <th>4</th>\n",
              "      <td>118</td>\n",
              "      <td>02d54f0dfb40038765e838459ae8c956</td>\n",
              "      <td>bernese_mountain_dog</td>\n",
              "    </tr>\n",
              "  </tbody>\n",
              "</table>\n",
              "</div>"
            ],
            "text/plain": [
              "   index                                id                 breed\n",
              "0      9  0042188c895a2f14ef64a918ed9c7b64    scottish_deerhound\n",
              "1     12  00693b8bc2470375cc744a6391d397ec           maltese_dog\n",
              "2     79  01e787576c003930f96c966f9c3e1d44    scottish_deerhound\n",
              "3     90  022b34fd8734b39995a9f38a4f3e7b6b           maltese_dog\n",
              "4    118  02d54f0dfb40038765e838459ae8c956  bernese_mountain_dog"
            ]
          },
          "metadata": {},
          "execution_count": 17
        }
      ]
    },
    {
      "cell_type": "markdown",
      "metadata": {
        "id": "pqv2jDxr74_k"
      },
      "source": [
        "## Preprocessing the data"
      ]
    },
    {
      "cell_type": "code",
      "metadata": {
        "id": "MrWG6qKV7bR7"
      },
      "source": [
        "X_data = np.zeros((len(labels),224,224,3),dtype='float32')\n",
        "Y_data = label_binarize(labels['breed'], classes=CLASS_NAMES)"
      ],
      "execution_count": 18,
      "outputs": []
    },
    {
      "cell_type": "code",
      "metadata": {
        "colab": {
          "base_uri": "https://localhost:8080/"
        },
        "id": "YACpKBZv8KSm",
        "outputId": "e3e95fe7-87c5-4e6e-ca27-abe5af7058ed"
      },
      "source": [
        "for i in tqdm(range(len(labels))):\n",
        "  img = image.load_img('dog_dataset/train/%s.jpg' % labels['id'][i], target_size=((224,224)))\n",
        "  img = image.img_to_array(img)\n",
        "  x = np.expand_dims(img.copy(), axis=0)\n",
        "  X_data[i] = x/255.0"
      ],
      "execution_count": 19,
      "outputs": [
        {
          "output_type": "stream",
          "name": "stderr",
          "text": [
            "100%|██████████| 357/357 [00:01<00:00, 251.05it/s]\n"
          ]
        }
      ]
    },
    {
      "cell_type": "code",
      "metadata": {
        "colab": {
          "base_uri": "https://localhost:8080/"
        },
        "id": "_UepW6fu8rKy",
        "outputId": "dd348de9-1634-4217-a3ee-c03895610c57"
      },
      "source": [
        "X_data.shape, Y_data.shape"
      ],
      "execution_count": 20,
      "outputs": [
        {
          "output_type": "execute_result",
          "data": {
            "text/plain": [
              "((357, 224, 224, 3), (357, 3))"
            ]
          },
          "metadata": {},
          "execution_count": 20
        }
      ]
    },
    {
      "cell_type": "markdown",
      "metadata": {
        "id": "QA_c_IqC9IyI"
      },
      "source": [
        "## Model Building"
      ]
    },
    {
      "cell_type": "code",
      "metadata": {
        "id": "lbWgRcQ082fS"
      },
      "source": [
        "model = Sequential()\n",
        "\n",
        "model.add(Conv2D(filters = 64, kernel_size = (5,5), activation = 'relu', input_shape=(224,224,3)))\n",
        "model.add(MaxPool2D(pool_size=(2,2)))\n",
        "\n",
        "model.add(Conv2D(filters = 32, kernel_size = (3,3), activation = 'relu', kernel_regularizer='l2'))\n",
        "model.add(MaxPool2D(pool_size=(2,2)))\n",
        "\n",
        "model.add(Conv2D(filters = 16, kernel_size = (7,7), activation = 'relu', kernel_regularizer='l2'))\n",
        "model.add(MaxPool2D(pool_size=(2,2)))\n",
        "\n",
        "model.add(Conv2D(filters = 8, kernel_size = (5,5), activation = 'relu', kernel_regularizer='l2'))\n",
        "model.add(MaxPool2D(pool_size=(2,2)))\n",
        "\n",
        "model.add(Flatten())\n",
        "model.add(Dense(128, activation='relu', kernel_regularizer='l2'))\n",
        "model.add(Dense(64, activation='relu', kernel_regularizer='l2'))\n",
        "model.add(Dense(len(CLASS_NAMES), activation=\"softmax\"))"
      ],
      "execution_count": 21,
      "outputs": []
    },
    {
      "cell_type": "code",
      "metadata": {
        "id": "hDeW1DEo-Zy-"
      },
      "source": [
        "model.compile(loss = 'categorical_crossentropy', optimizer = Adam(0.0001), metrics=['accuracy'])"
      ],
      "execution_count": 22,
      "outputs": []
    },
    {
      "cell_type": "code",
      "metadata": {
        "colab": {
          "base_uri": "https://localhost:8080/"
        },
        "id": "ZLRzoNnf-tPw",
        "outputId": "8cdadb2f-4f73-4e50-ed4d-bab9dadc064a"
      },
      "source": [
        "model.summary()"
      ],
      "execution_count": 23,
      "outputs": [
        {
          "output_type": "stream",
          "name": "stdout",
          "text": [
            "Model: \"sequential\"\n",
            "_________________________________________________________________\n",
            "Layer (type)                 Output Shape              Param #   \n",
            "=================================================================\n",
            "conv2d (Conv2D)              (None, 220, 220, 64)      4864      \n",
            "_________________________________________________________________\n",
            "max_pooling2d (MaxPooling2D) (None, 110, 110, 64)      0         \n",
            "_________________________________________________________________\n",
            "conv2d_1 (Conv2D)            (None, 108, 108, 32)      18464     \n",
            "_________________________________________________________________\n",
            "max_pooling2d_1 (MaxPooling2 (None, 54, 54, 32)        0         \n",
            "_________________________________________________________________\n",
            "conv2d_2 (Conv2D)            (None, 48, 48, 16)        25104     \n",
            "_________________________________________________________________\n",
            "max_pooling2d_2 (MaxPooling2 (None, 24, 24, 16)        0         \n",
            "_________________________________________________________________\n",
            "conv2d_3 (Conv2D)            (None, 20, 20, 8)         3208      \n",
            "_________________________________________________________________\n",
            "max_pooling2d_3 (MaxPooling2 (None, 10, 10, 8)         0         \n",
            "_________________________________________________________________\n",
            "flatten (Flatten)            (None, 800)               0         \n",
            "_________________________________________________________________\n",
            "dense (Dense)                (None, 128)               102528    \n",
            "_________________________________________________________________\n",
            "dense_1 (Dense)              (None, 64)                8256      \n",
            "_________________________________________________________________\n",
            "dense_2 (Dense)              (None, 3)                 195       \n",
            "=================================================================\n",
            "Total params: 162,619\n",
            "Trainable params: 162,619\n",
            "Non-trainable params: 0\n",
            "_________________________________________________________________\n"
          ]
        }
      ]
    },
    {
      "cell_type": "markdown",
      "metadata": {
        "id": "jLc6ZszJADt9"
      },
      "source": [
        "## Splitting the data"
      ]
    },
    {
      "cell_type": "code",
      "metadata": {
        "id": "urH3dh87-uiY"
      },
      "source": [
        "X_train_val, X_test, Y_train_val, Y_test = train_test_split(X_data, Y_data, test_size=0.1)"
      ],
      "execution_count": 24,
      "outputs": []
    },
    {
      "cell_type": "code",
      "metadata": {
        "id": "cfA77t0zASpS"
      },
      "source": [
        "X_train, X_val, Y_train, Y_val = train_test_split(X_train_val, Y_train_val, test_size=0.2)"
      ],
      "execution_count": 25,
      "outputs": []
    },
    {
      "cell_type": "markdown",
      "metadata": {
        "id": "MndZFLJYAleu"
      },
      "source": [
        "## Training"
      ]
    },
    {
      "cell_type": "code",
      "metadata": {
        "colab": {
          "base_uri": "https://localhost:8080/"
        },
        "id": "yMdSfJuQAiYU",
        "outputId": "85d69d5d-e275-4c4c-d74e-e90d28954ea3"
      },
      "source": [
        "epochs = 100\n",
        "batch_size = 128\n",
        "\n",
        "history = model.fit(X_train, Y_train, batch_size=batch_size, epochs=epochs,\n",
        "                    validation_data = (X_val, Y_val))"
      ],
      "execution_count": 26,
      "outputs": [
        {
          "output_type": "stream",
          "name": "stdout",
          "text": [
            "Epoch 1/100\n",
            "2/2 [==============================] - 38s 2s/step - loss: 4.9072 - accuracy: 0.3555 - val_loss: 4.8942 - val_accuracy: 0.3077\n",
            "Epoch 2/100\n",
            "2/2 [==============================] - 1s 512ms/step - loss: 4.8801 - accuracy: 0.3594 - val_loss: 4.8708 - val_accuracy: 0.3077\n",
            "Epoch 3/100\n",
            "2/2 [==============================] - 1s 507ms/step - loss: 4.8546 - accuracy: 0.3594 - val_loss: 4.8483 - val_accuracy: 0.3077\n",
            "Epoch 4/100\n",
            "2/2 [==============================] - 1s 507ms/step - loss: 4.8287 - accuracy: 0.3594 - val_loss: 4.8249 - val_accuracy: 0.3077\n",
            "Epoch 5/100\n",
            "2/2 [==============================] - 1s 507ms/step - loss: 4.8030 - accuracy: 0.3594 - val_loss: 4.8018 - val_accuracy: 0.3077\n",
            "Epoch 6/100\n",
            "2/2 [==============================] - 1s 528ms/step - loss: 4.7773 - accuracy: 0.3594 - val_loss: 4.7779 - val_accuracy: 0.3077\n",
            "Epoch 7/100\n",
            "2/2 [==============================] - 1s 509ms/step - loss: 4.7519 - accuracy: 0.3594 - val_loss: 4.7537 - val_accuracy: 0.3077\n",
            "Epoch 8/100\n",
            "2/2 [==============================] - 1s 517ms/step - loss: 4.7262 - accuracy: 0.3594 - val_loss: 4.7295 - val_accuracy: 0.3077\n",
            "Epoch 9/100\n",
            "2/2 [==============================] - 1s 506ms/step - loss: 4.7006 - accuracy: 0.3633 - val_loss: 4.7046 - val_accuracy: 0.3231\n",
            "Epoch 10/100\n",
            "2/2 [==============================] - 1s 531ms/step - loss: 4.6753 - accuracy: 0.3711 - val_loss: 4.6805 - val_accuracy: 0.3385\n",
            "Epoch 11/100\n",
            "2/2 [==============================] - 1s 518ms/step - loss: 4.6494 - accuracy: 0.3867 - val_loss: 4.6554 - val_accuracy: 0.3692\n",
            "Epoch 12/100\n",
            "2/2 [==============================] - 1s 524ms/step - loss: 4.6236 - accuracy: 0.4375 - val_loss: 4.6307 - val_accuracy: 0.3692\n",
            "Epoch 13/100\n",
            "2/2 [==============================] - 1s 563ms/step - loss: 4.5977 - accuracy: 0.4609 - val_loss: 4.6048 - val_accuracy: 0.4154\n",
            "Epoch 14/100\n",
            "2/2 [==============================] - 1s 512ms/step - loss: 4.5713 - accuracy: 0.4844 - val_loss: 4.5782 - val_accuracy: 0.4154\n",
            "Epoch 15/100\n",
            "2/2 [==============================] - 1s 520ms/step - loss: 4.5447 - accuracy: 0.4922 - val_loss: 4.5517 - val_accuracy: 0.4154\n",
            "Epoch 16/100\n",
            "2/2 [==============================] - 1s 523ms/step - loss: 4.5166 - accuracy: 0.4922 - val_loss: 4.5237 - val_accuracy: 0.4308\n",
            "Epoch 17/100\n",
            "2/2 [==============================] - 1s 505ms/step - loss: 4.4889 - accuracy: 0.5000 - val_loss: 4.4948 - val_accuracy: 0.4769\n",
            "Epoch 18/100\n",
            "2/2 [==============================] - 1s 574ms/step - loss: 4.4595 - accuracy: 0.5078 - val_loss: 4.4659 - val_accuracy: 0.4615\n",
            "Epoch 19/100\n",
            "2/2 [==============================] - 1s 516ms/step - loss: 4.4292 - accuracy: 0.5117 - val_loss: 4.4380 - val_accuracy: 0.4769\n",
            "Epoch 20/100\n",
            "2/2 [==============================] - 1s 515ms/step - loss: 4.3973 - accuracy: 0.5156 - val_loss: 4.4064 - val_accuracy: 0.4769\n",
            "Epoch 21/100\n",
            "2/2 [==============================] - 1s 515ms/step - loss: 4.3643 - accuracy: 0.5352 - val_loss: 4.3719 - val_accuracy: 0.4923\n",
            "Epoch 22/100\n",
            "2/2 [==============================] - 1s 522ms/step - loss: 4.3284 - accuracy: 0.5625 - val_loss: 4.3398 - val_accuracy: 0.5077\n",
            "Epoch 23/100\n",
            "2/2 [==============================] - 1s 524ms/step - loss: 4.2903 - accuracy: 0.5742 - val_loss: 4.2993 - val_accuracy: 0.5231\n",
            "Epoch 24/100\n",
            "2/2 [==============================] - 1s 523ms/step - loss: 4.2499 - accuracy: 0.6016 - val_loss: 4.2574 - val_accuracy: 0.5231\n",
            "Epoch 25/100\n",
            "2/2 [==============================] - 1s 556ms/step - loss: 4.2104 - accuracy: 0.6133 - val_loss: 4.2163 - val_accuracy: 0.5692\n",
            "Epoch 26/100\n",
            "2/2 [==============================] - 1s 517ms/step - loss: 4.1704 - accuracy: 0.6133 - val_loss: 4.1864 - val_accuracy: 0.5538\n",
            "Epoch 27/100\n",
            "2/2 [==============================] - 1s 514ms/step - loss: 4.1297 - accuracy: 0.6328 - val_loss: 4.1535 - val_accuracy: 0.5692\n",
            "Epoch 28/100\n",
            "2/2 [==============================] - 1s 508ms/step - loss: 4.0901 - accuracy: 0.6367 - val_loss: 4.1269 - val_accuracy: 0.5692\n",
            "Epoch 29/100\n",
            "2/2 [==============================] - 1s 528ms/step - loss: 4.0598 - accuracy: 0.6406 - val_loss: 4.0880 - val_accuracy: 0.6000\n",
            "Epoch 30/100\n",
            "2/2 [==============================] - 1s 517ms/step - loss: 4.0130 - accuracy: 0.6562 - val_loss: 4.0771 - val_accuracy: 0.5846\n",
            "Epoch 31/100\n",
            "2/2 [==============================] - 1s 516ms/step - loss: 3.9808 - accuracy: 0.6523 - val_loss: 4.0603 - val_accuracy: 0.5846\n",
            "Epoch 32/100\n",
            "2/2 [==============================] - 1s 520ms/step - loss: 3.9450 - accuracy: 0.6602 - val_loss: 4.0133 - val_accuracy: 0.6154\n",
            "Epoch 33/100\n",
            "2/2 [==============================] - 1s 507ms/step - loss: 3.9187 - accuracy: 0.6836 - val_loss: 3.9896 - val_accuracy: 0.6154\n",
            "Epoch 34/100\n",
            "2/2 [==============================] - 1s 526ms/step - loss: 3.8855 - accuracy: 0.6797 - val_loss: 4.0281 - val_accuracy: 0.5692\n",
            "Epoch 35/100\n",
            "2/2 [==============================] - 1s 512ms/step - loss: 3.8476 - accuracy: 0.6992 - val_loss: 3.9564 - val_accuracy: 0.6154\n",
            "Epoch 36/100\n",
            "2/2 [==============================] - 1s 509ms/step - loss: 3.8075 - accuracy: 0.7070 - val_loss: 3.9154 - val_accuracy: 0.6308\n",
            "Epoch 37/100\n",
            "2/2 [==============================] - 1s 527ms/step - loss: 3.7825 - accuracy: 0.7227 - val_loss: 3.9191 - val_accuracy: 0.6308\n",
            "Epoch 38/100\n",
            "2/2 [==============================] - 1s 574ms/step - loss: 3.7547 - accuracy: 0.7188 - val_loss: 3.9382 - val_accuracy: 0.6000\n",
            "Epoch 39/100\n",
            "2/2 [==============================] - 1s 506ms/step - loss: 3.7181 - accuracy: 0.7305 - val_loss: 3.8810 - val_accuracy: 0.6462\n",
            "Epoch 40/100\n",
            "2/2 [==============================] - 1s 515ms/step - loss: 3.6801 - accuracy: 0.7500 - val_loss: 3.8437 - val_accuracy: 0.6615\n",
            "Epoch 41/100\n",
            "2/2 [==============================] - 1s 527ms/step - loss: 3.6653 - accuracy: 0.7461 - val_loss: 3.8397 - val_accuracy: 0.6923\n",
            "Epoch 42/100\n",
            "2/2 [==============================] - 1s 519ms/step - loss: 3.6221 - accuracy: 0.7617 - val_loss: 3.8689 - val_accuracy: 0.6000\n",
            "Epoch 43/100\n",
            "2/2 [==============================] - 1s 516ms/step - loss: 3.6009 - accuracy: 0.7617 - val_loss: 3.8007 - val_accuracy: 0.6923\n",
            "Epoch 44/100\n",
            "2/2 [==============================] - 1s 521ms/step - loss: 3.5700 - accuracy: 0.7578 - val_loss: 3.7755 - val_accuracy: 0.6923\n",
            "Epoch 45/100\n",
            "2/2 [==============================] - 1s 513ms/step - loss: 3.5401 - accuracy: 0.7852 - val_loss: 3.7893 - val_accuracy: 0.7231\n",
            "Epoch 46/100\n",
            "2/2 [==============================] - 1s 524ms/step - loss: 3.5067 - accuracy: 0.7930 - val_loss: 3.7538 - val_accuracy: 0.7077\n",
            "Epoch 47/100\n",
            "2/2 [==============================] - 1s 522ms/step - loss: 3.4796 - accuracy: 0.8086 - val_loss: 3.7498 - val_accuracy: 0.6769\n",
            "Epoch 48/100\n",
            "2/2 [==============================] - 1s 521ms/step - loss: 3.4555 - accuracy: 0.8164 - val_loss: 3.7211 - val_accuracy: 0.7077\n",
            "Epoch 49/100\n",
            "2/2 [==============================] - 1s 524ms/step - loss: 3.4466 - accuracy: 0.8164 - val_loss: 3.7532 - val_accuracy: 0.6769\n",
            "Epoch 50/100\n",
            "2/2 [==============================] - 1s 519ms/step - loss: 3.4429 - accuracy: 0.7969 - val_loss: 3.6950 - val_accuracy: 0.6769\n",
            "Epoch 51/100\n",
            "2/2 [==============================] - 1s 514ms/step - loss: 3.4013 - accuracy: 0.8555 - val_loss: 3.6933 - val_accuracy: 0.7077\n",
            "Epoch 52/100\n",
            "2/2 [==============================] - 1s 518ms/step - loss: 3.3748 - accuracy: 0.8359 - val_loss: 3.7295 - val_accuracy: 0.6769\n",
            "Epoch 53/100\n",
            "2/2 [==============================] - 1s 527ms/step - loss: 3.3611 - accuracy: 0.8125 - val_loss: 3.6626 - val_accuracy: 0.7385\n",
            "Epoch 54/100\n",
            "2/2 [==============================] - 1s 518ms/step - loss: 3.3665 - accuracy: 0.8242 - val_loss: 3.6595 - val_accuracy: 0.7385\n",
            "Epoch 55/100\n",
            "2/2 [==============================] - 1s 524ms/step - loss: 3.3015 - accuracy: 0.8555 - val_loss: 3.6938 - val_accuracy: 0.6923\n",
            "Epoch 56/100\n",
            "2/2 [==============================] - 1s 514ms/step - loss: 3.3100 - accuracy: 0.8242 - val_loss: 3.6191 - val_accuracy: 0.7077\n",
            "Epoch 57/100\n",
            "2/2 [==============================] - 1s 529ms/step - loss: 3.2765 - accuracy: 0.8555 - val_loss: 3.6305 - val_accuracy: 0.7538\n",
            "Epoch 58/100\n",
            "2/2 [==============================] - 1s 525ms/step - loss: 3.2506 - accuracy: 0.8594 - val_loss: 3.6528 - val_accuracy: 0.6923\n",
            "Epoch 59/100\n",
            "2/2 [==============================] - 1s 531ms/step - loss: 3.2441 - accuracy: 0.8398 - val_loss: 3.5892 - val_accuracy: 0.7385\n",
            "Epoch 60/100\n",
            "2/2 [==============================] - 1s 530ms/step - loss: 3.2101 - accuracy: 0.8828 - val_loss: 3.5739 - val_accuracy: 0.7385\n",
            "Epoch 61/100\n",
            "2/2 [==============================] - 1s 512ms/step - loss: 3.2014 - accuracy: 0.8711 - val_loss: 3.6053 - val_accuracy: 0.7077\n",
            "Epoch 62/100\n",
            "2/2 [==============================] - 1s 566ms/step - loss: 3.1821 - accuracy: 0.8594 - val_loss: 3.5760 - val_accuracy: 0.7385\n",
            "Epoch 63/100\n",
            "2/2 [==============================] - 1s 573ms/step - loss: 3.1734 - accuracy: 0.8789 - val_loss: 3.5424 - val_accuracy: 0.7231\n",
            "Epoch 64/100\n",
            "2/2 [==============================] - 1s 533ms/step - loss: 3.1387 - accuracy: 0.8906 - val_loss: 3.5659 - val_accuracy: 0.6923\n",
            "Epoch 65/100\n",
            "2/2 [==============================] - 1s 512ms/step - loss: 3.1317 - accuracy: 0.8672 - val_loss: 3.5646 - val_accuracy: 0.7538\n",
            "Epoch 66/100\n",
            "2/2 [==============================] - 1s 514ms/step - loss: 3.1092 - accuracy: 0.9062 - val_loss: 3.5189 - val_accuracy: 0.7385\n",
            "Epoch 67/100\n",
            "2/2 [==============================] - 1s 510ms/step - loss: 3.0881 - accuracy: 0.9062 - val_loss: 3.5216 - val_accuracy: 0.7077\n",
            "Epoch 68/100\n",
            "2/2 [==============================] - 1s 579ms/step - loss: 3.0746 - accuracy: 0.8867 - val_loss: 3.5142 - val_accuracy: 0.7538\n",
            "Epoch 69/100\n",
            "2/2 [==============================] - 1s 522ms/step - loss: 3.0836 - accuracy: 0.8945 - val_loss: 3.5176 - val_accuracy: 0.7385\n",
            "Epoch 70/100\n",
            "2/2 [==============================] - 1s 527ms/step - loss: 3.0615 - accuracy: 0.8906 - val_loss: 3.5167 - val_accuracy: 0.6769\n",
            "Epoch 71/100\n",
            "2/2 [==============================] - 1s 531ms/step - loss: 3.0304 - accuracy: 0.9141 - val_loss: 3.4822 - val_accuracy: 0.7538\n",
            "Epoch 72/100\n",
            "2/2 [==============================] - 1s 527ms/step - loss: 3.0219 - accuracy: 0.9180 - val_loss: 3.5104 - val_accuracy: 0.7231\n",
            "Epoch 73/100\n",
            "2/2 [==============================] - 1s 532ms/step - loss: 3.0093 - accuracy: 0.8945 - val_loss: 3.5046 - val_accuracy: 0.7231\n",
            "Epoch 74/100\n",
            "2/2 [==============================] - 1s 532ms/step - loss: 2.9742 - accuracy: 0.9336 - val_loss: 3.4737 - val_accuracy: 0.7538\n",
            "Epoch 75/100\n",
            "2/2 [==============================] - 1s 536ms/step - loss: 2.9824 - accuracy: 0.9297 - val_loss: 3.4625 - val_accuracy: 0.7077\n",
            "Epoch 76/100\n",
            "2/2 [==============================] - 1s 526ms/step - loss: 2.9518 - accuracy: 0.9219 - val_loss: 3.4792 - val_accuracy: 0.7231\n",
            "Epoch 77/100\n",
            "2/2 [==============================] - 1s 523ms/step - loss: 2.9438 - accuracy: 0.9102 - val_loss: 3.4607 - val_accuracy: 0.7846\n",
            "Epoch 78/100\n",
            "2/2 [==============================] - 1s 539ms/step - loss: 2.9264 - accuracy: 0.9336 - val_loss: 3.4467 - val_accuracy: 0.7077\n",
            "Epoch 79/100\n",
            "2/2 [==============================] - 1s 536ms/step - loss: 2.9166 - accuracy: 0.9258 - val_loss: 3.4335 - val_accuracy: 0.7077\n",
            "Epoch 80/100\n",
            "2/2 [==============================] - 1s 528ms/step - loss: 2.8976 - accuracy: 0.9336 - val_loss: 3.4280 - val_accuracy: 0.7385\n",
            "Epoch 81/100\n",
            "2/2 [==============================] - 1s 571ms/step - loss: 2.8816 - accuracy: 0.9453 - val_loss: 3.4533 - val_accuracy: 0.7231\n",
            "Epoch 82/100\n",
            "2/2 [==============================] - 1s 527ms/step - loss: 2.8695 - accuracy: 0.9570 - val_loss: 3.4146 - val_accuracy: 0.7385\n",
            "Epoch 83/100\n",
            "2/2 [==============================] - 1s 515ms/step - loss: 2.8677 - accuracy: 0.9375 - val_loss: 3.4144 - val_accuracy: 0.7077\n",
            "Epoch 84/100\n",
            "2/2 [==============================] - 1s 530ms/step - loss: 2.8465 - accuracy: 0.9453 - val_loss: 3.4332 - val_accuracy: 0.7077\n",
            "Epoch 85/100\n",
            "2/2 [==============================] - 1s 526ms/step - loss: 2.8350 - accuracy: 0.9453 - val_loss: 3.4158 - val_accuracy: 0.7692\n",
            "Epoch 86/100\n",
            "2/2 [==============================] - 1s 571ms/step - loss: 2.8257 - accuracy: 0.9492 - val_loss: 3.4211 - val_accuracy: 0.7077\n",
            "Epoch 87/100\n",
            "2/2 [==============================] - 1s 519ms/step - loss: 2.8092 - accuracy: 0.9570 - val_loss: 3.3828 - val_accuracy: 0.7538\n",
            "Epoch 88/100\n",
            "2/2 [==============================] - 1s 531ms/step - loss: 2.7979 - accuracy: 0.9531 - val_loss: 3.3918 - val_accuracy: 0.7077\n",
            "Epoch 89/100\n",
            "2/2 [==============================] - 1s 530ms/step - loss: 2.7754 - accuracy: 0.9688 - val_loss: 3.4035 - val_accuracy: 0.7231\n",
            "Epoch 90/100\n",
            "2/2 [==============================] - 1s 569ms/step - loss: 2.7694 - accuracy: 0.9648 - val_loss: 3.3659 - val_accuracy: 0.7538\n",
            "Epoch 91/100\n",
            "2/2 [==============================] - 1s 515ms/step - loss: 2.7638 - accuracy: 0.9609 - val_loss: 3.3670 - val_accuracy: 0.7077\n",
            "Epoch 92/100\n",
            "2/2 [==============================] - 1s 536ms/step - loss: 2.7650 - accuracy: 0.9609 - val_loss: 3.3829 - val_accuracy: 0.7231\n",
            "Epoch 93/100\n",
            "2/2 [==============================] - 1s 531ms/step - loss: 2.7322 - accuracy: 0.9688 - val_loss: 3.3749 - val_accuracy: 0.7385\n",
            "Epoch 94/100\n",
            "2/2 [==============================] - 1s 526ms/step - loss: 2.7288 - accuracy: 0.9688 - val_loss: 3.3754 - val_accuracy: 0.7077\n",
            "Epoch 95/100\n",
            "2/2 [==============================] - 1s 532ms/step - loss: 2.7239 - accuracy: 0.9492 - val_loss: 3.3422 - val_accuracy: 0.7231\n",
            "Epoch 96/100\n",
            "2/2 [==============================] - 1s 538ms/step - loss: 2.6971 - accuracy: 0.9766 - val_loss: 3.3575 - val_accuracy: 0.7538\n",
            "Epoch 97/100\n",
            "2/2 [==============================] - 1s 517ms/step - loss: 2.6863 - accuracy: 0.9805 - val_loss: 3.3480 - val_accuracy: 0.7077\n",
            "Epoch 98/100\n",
            "2/2 [==============================] - 1s 530ms/step - loss: 2.6737 - accuracy: 0.9766 - val_loss: 3.3317 - val_accuracy: 0.7231\n",
            "Epoch 99/100\n",
            "2/2 [==============================] - 1s 523ms/step - loss: 2.6638 - accuracy: 0.9766 - val_loss: 3.3343 - val_accuracy: 0.7077\n",
            "Epoch 100/100\n",
            "2/2 [==============================] - 1s 517ms/step - loss: 2.6507 - accuracy: 0.9805 - val_loss: 3.3387 - val_accuracy: 0.7231\n"
          ]
        }
      ]
    },
    {
      "cell_type": "markdown",
      "metadata": {
        "id": "X_TlhbCeDeSz"
      },
      "source": [
        "## Testing"
      ]
    },
    {
      "cell_type": "code",
      "metadata": {
        "colab": {
          "base_uri": "https://localhost:8080/",
          "height": 350
        },
        "id": "MmdiUCSVA2cz",
        "outputId": "df5dbf94-8dff-4b26-ea9c-51f713704062"
      },
      "source": [
        "plt.figure(figsize=(12,5))\n",
        "plt.plot(history.history['accuracy'], color='r')\n",
        "plt.plot(history.history['val_accuracy'], color='b')\n",
        "plt.title('Model accuracy')\n",
        "plt.ylabel('Accuracy')\n",
        "plt.xlabel('Epochs')\n",
        "plt.legend(['train', 'val'])\n",
        "\n",
        "plt.show()"
      ],
      "execution_count": 29,
      "outputs": [
        {
          "output_type": "display_data",
          "data": {
            "image/png": "[encoded data removed]",
            "text/plain": [
              "<Figure size 864x360 with 1 Axes>"
            ]
          },
          "metadata": {
            "needs_background": "light"
          }
        }
      ]
    },
    {
      "cell_type": "code",
      "metadata": {
        "colab": {
          "base_uri": "https://localhost:8080/"
        },
        "id": "C5jvHllaD_aE",
        "outputId": "1c97c5ed-562b-4dfb-81de-3caace0bbc1c"
      },
      "source": [
        "y_pred = model.predict(X_test)\n",
        "score = model.evaluate(X_test, Y_test)"
      ],
      "execution_count": 30,
      "outputs": [
        {
          "output_type": "stream",
          "name": "stdout",
          "text": [
            "2/2 [==============================] - 0s 16ms/step - loss: 3.2286 - accuracy: 0.7222\n"
          ]
        }
      ]
    },
    {
      "cell_type": "code",
      "metadata": {
        "colab": {
          "base_uri": "https://localhost:8080/"
        },
        "id": "ooJlCqQZEOSo",
        "outputId": "1982fee3-5d7c-4e08-dcdd-5aea3b0b4337"
      },
      "source": [
        "print(\"Accuracy: \", round((score[1]*100), 2), '%')"
      ],
      "execution_count": 31,
      "outputs": [
        {
          "output_type": "stream",
          "name": "stdout",
          "text": [
            "Accuracy:  72.22 %\n"
          ]
        }
      ]
    },
    {
      "cell_type": "code",
      "metadata": {
        "id": "7fZeERJCEZXM"
      },
      "source": [
        "model.save(\"dog_breed.h5\")"
      ],
      "execution_count": 32,
      "outputs": []
    },
    {
      "cell_type": "code",
      "metadata": {
        "id": "QkbQjOulEr_G"
      },
      "source": [
        ""
      ],
      "execution_count": null,
      "outputs": []
    }
  ]
}